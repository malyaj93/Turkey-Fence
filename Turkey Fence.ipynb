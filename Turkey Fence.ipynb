{
 "cells": [
  {
   "cell_type": "markdown",
   "metadata": {},
   "source": [
    "Author:Christopher Millones, Malyaj Sirothia <br>\n",
    "CWID:    **887355980**    ,    **886687508** <br>\n",
    "Date: 26 Feb 2021 <br>\n",
    "\n",
    "\n",
    "----Project Description---- <br>\n",
    "Tukey Fences\n",
    "\n",
    "1. Use the csv module to load and examine the dataset.\n",
    "\n",
    "2. Find the quartiles for Week 1. You may wish to consult the Python Sorting HOW TO document for help manipulating the data.\n",
    "\n",
    "3. In order to record attendance, we want to find the students who logged into the Zoom meeting but did not attend the entire lecture. In order to do this, we can look for outliers in the data.\n",
    "Tukey’s fences are a simple method to define outliers in terms of the interquartile range. Use this method with k = 1.5 to find the outliers in the Week 1 attendance data.\n",
    "\n",
    "4. Repeat experiments (2) and (3) for Weeks 2 and 3.\n",
    "\n",
    "5. Consolidate your code from experiments (2) through (4) into a Python function named tardy().\n",
    "This function should list the name and attendance statistics for any student whose attendance in any week falls below the bottom fence for that week. Tardy students should be listed in the same order as they appear in the original .csv file."
   ]
  },
  {
   "cell_type": "markdown",
   "metadata": {},
   "source": [
    "# #5 Consolidate code from experiments (2) - (4) into a python function named tardy(). You may wish to define other functions as well."
   ]
  },
  {
   "cell_type": "code",
   "execution_count": 62,
   "metadata": {},
   "outputs": [],
   "source": [
    "#### Helper Functions ####\n",
    "# The functions in this cell are used to perform the necessary calculations\n",
    "def medianCalculator(x):\n",
    "    n = len(x)\n",
    "    if n%2==0:\n",
    "        median1 = x[n//2]\n",
    "        median2 = x[n//2-1]\n",
    "        median = (median1+median2)/2\n",
    "    else:\n",
    "        median = x[n//2]\n",
    "    return median   \n",
    "\n",
    "def quartileOutput(week,Q1,Q2,Q3):\n",
    "    print('\\n***\\n',week,'\\nQ1: ',Q1,'\\nQ2: ',Q2,'\\nQ3: ',Q3,'\\n***')\n",
    "    \n",
    "def boundOutput(week,ub,lb):\n",
    "    print('\\n***\\nTurkey Fence\\n',week,'\\nUB: ',ub,'\\nLB: ',lb, '\\n***')\n",
    "\n",
    "def tardy(week, name, data):\n",
    "    print('\\n***\\n',week,'\\nName:\\t\\t Data:')\n",
    "    \n",
    "    for x,y in zip(name,data):\n",
    "        print(x,'\\t',y)"
   ]
  },
  {
   "cell_type": "markdown",
   "metadata": {},
   "source": [
    "# #1 Use the csv module to load and examine the dataset."
   ]
  },
  {
   "cell_type": "code",
   "execution_count": 63,
   "metadata": {},
   "outputs": [],
   "source": [
    "########################\n",
    "# Authors: Christopher Millones & \n",
    "# CWID: 887355980\n",
    "# Due Date: \n",
    "########################\n",
    "\n",
    "import csv\n",
    "\n",
    "a = []\n",
    "b = []\n",
    "c = []\n",
    "name = []\n",
    "data = []\n",
    "\n",
    "csv_file = open(\"participants.csv\", \"r\")\n",
    "csv_reader = csv.reader(csv_file)\n",
    "\n",
    "next(csv_reader)\n",
    "for line in csv_reader:\n",
    "    a.append(float(line[1]))"
   ]
  },
  {
   "cell_type": "markdown",
   "metadata": {},
   "source": [
    "# #2 Find Quartiles for Week 1."
   ]
  },
  {
   "cell_type": "code",
   "execution_count": 64,
   "metadata": {},
   "outputs": [
    {
     "name": "stdout",
     "output_type": "stream",
     "text": [
      "\n",
      "***\n",
      " Week1 \n",
      "Q1:  157.5 \n",
      "Q2:  163.5 \n",
      "Q3:  167.5 \n",
      "***\n"
     ]
    }
   ],
   "source": [
    "###### WEEK 1 ##########      \n",
    "csv_file.seek(0)\n",
    "a.sort()\n",
    "Q2 = medianCalculator(a)\n",
    "\n",
    "for x in a:\n",
    "    if x < Q2:\n",
    "        b.append(x)\n",
    "    else:\n",
    "        c.append(x)\n",
    "\n",
    "\n",
    "Q1 = medianCalculator(b)\n",
    "Q3 = medianCalculator(c)\n",
    "quartileOutput('Week1',Q1,Q2,Q3) \n",
    "########################"
   ]
  },
  {
   "cell_type": "markdown",
   "metadata": {},
   "source": [
    "# #3 Identify the Turkey Fences and find the outliers for Week 1"
   ]
  },
  {
   "cell_type": "code",
   "execution_count": 65,
   "metadata": {},
   "outputs": [
    {
     "name": "stdout",
     "output_type": "stream",
     "text": [
      "\n",
      "***\n",
      "Turkey Fence\n",
      " Week1 \n",
      "UB:  182.5 \n",
      "LB:  142.5 \n",
      "***\n",
      "\n",
      "***\n",
      " Week1 \n",
      "Name:\t\t Data:\n",
      "Trey Khan \t 110.0\n",
      "Taya Curtis \t 115.0\n",
      "Wallace Rojas \t 91.0\n"
     ]
    }
   ],
   "source": [
    "UB1 = Q3+1.5*(Q3-Q1)\n",
    "LB1 = Q1-1.5*(Q3-Q1)\n",
    "boundOutput('Week1',UB1,LB1)\n",
    "\n",
    "next(csv_reader)\n",
    "for line in csv_reader:\n",
    "    if float(line[1]) < LB1:\n",
    "        name.append(line[0])\n",
    "        data.append(float(line[1]))\n",
    "\n",
    "tardy('Week1',name, data)\n"
   ]
  },
  {
   "cell_type": "markdown",
   "metadata": {},
   "source": [
    "# #4 Repeat experiements (2) and (3) for Week 2 and Week 3"
   ]
  },
  {
   "cell_type": "markdown",
   "metadata": {},
   "source": [
    "Quartiles for Week 2"
   ]
  },
  {
   "cell_type": "code",
   "execution_count": 66,
   "metadata": {},
   "outputs": [
    {
     "name": "stdout",
     "output_type": "stream",
     "text": [
      "\n",
      "***\n",
      " Week2 \n",
      "Q1:  167.0 \n",
      "Q2:  170.0 \n",
      "Q3:  174.0 \n",
      "***\n"
     ]
    }
   ],
   "source": [
    "###### WEEK 2 ##########\n",
    "csv_file.seek(0)  \n",
    "a.clear()\n",
    "b.clear()\n",
    "c.clear()\n",
    "name.clear()\n",
    "data.clear()\n",
    "next(csv_reader)\n",
    "for line in csv_reader:\n",
    "    a.append(float(line[2]))\n",
    "csv_file.seek(0)\n",
    "a.sort()\n",
    "Q2 = medianCalculator(a)\n",
    "\n",
    "for x in a:\n",
    "    if x < Q2:\n",
    "        b.append(x)\n",
    "    else:\n",
    "        c.append(x)\n",
    "\n",
    "Q1 = medianCalculator(b)\n",
    "Q3 = medianCalculator(c)\n",
    "quartileOutput('Week2',Q1,Q2,Q3)"
   ]
  },
  {
   "cell_type": "markdown",
   "metadata": {},
   "source": [
    "Turkey Fence and Outliers for Week 2"
   ]
  },
  {
   "cell_type": "code",
   "execution_count": 67,
   "metadata": {},
   "outputs": [
    {
     "name": "stdout",
     "output_type": "stream",
     "text": [
      "\n",
      "***\n",
      "Turkey Fence\n",
      " Week2 \n",
      "UB:  184.5 \n",
      "LB:  156.5 \n",
      "***\n",
      "\n",
      "***\n",
      " Week2 \n",
      "Name:\t\t Data:\n",
      "Trey Khan \t 66.0\n",
      "Taya Curtis \t 74.0\n",
      "Wallace Rojas \t 35.0\n",
      "Stephanie Hail \t 143.0\n"
     ]
    }
   ],
   "source": [
    "UB2 = Q3+1.5*(Q3-Q1)\n",
    "LB2 = Q1-1.5*(Q3-Q1)\n",
    "boundOutput('Week2',UB2,LB2)\n",
    "\n",
    "csv_file.seek(0) \n",
    "next(csv_reader)\n",
    "for line in csv_reader:\n",
    "    if float(line[2]) < LB2:\n",
    "        name.append(line[0])\n",
    "        data.append(float(line[2]))\n",
    "\n",
    "tardy('Week2',name, data)\n",
    "######################## "
   ]
  },
  {
   "cell_type": "markdown",
   "metadata": {},
   "source": [
    "Quartiles for Week 3"
   ]
  },
  {
   "cell_type": "code",
   "execution_count": 68,
   "metadata": {},
   "outputs": [
    {
     "name": "stdout",
     "output_type": "stream",
     "text": [
      "\n",
      "***\n",
      " Week3 \n",
      "Q1:  170.0 \n",
      "Q2:  175.0 \n",
      "Q3:  178.0 \n",
      "***\n"
     ]
    }
   ],
   "source": [
    "###### WEEK 3 ##########\n",
    "csv_file.seek(0)\n",
    "a.clear()\n",
    "b.clear()\n",
    "c.clear()\n",
    "name.clear()\n",
    "data.clear()\n",
    "next(csv_reader)\n",
    "for line in csv_reader:\n",
    "    a.append(float(line[3]))\n",
    "a.sort()\n",
    "Q2 = medianCalculator(a)\n",
    "\n",
    "for x in a:\n",
    "    if x < Q2:\n",
    "        b.append(x)\n",
    "    else:\n",
    "        c.append(x)\n",
    "\n",
    "Q1 = medianCalculator(b)\n",
    "Q3 = medianCalculator(c)\n",
    "quartileOutput('Week3',Q1,Q2,Q3)"
   ]
  },
  {
   "cell_type": "markdown",
   "metadata": {},
   "source": [
    "Turkey Fence and Outliers for Week 3"
   ]
  },
  {
   "cell_type": "code",
   "execution_count": 69,
   "metadata": {},
   "outputs": [
    {
     "name": "stdout",
     "output_type": "stream",
     "text": [
      "\n",
      "***\n",
      "Turkey Fence\n",
      " Week3 \n",
      "UB:  190.0 \n",
      "LB:  158.0 \n",
      "***\n",
      "\n",
      "***\n",
      " Week3 \n",
      "Name:\t\t Data:\n",
      "Kaleb Cummings \t 51.0\n",
      "Ameerah Fulton \t 24.0\n",
      "Arman Mackie \t 9.0\n"
     ]
    }
   ],
   "source": [
    "UB3 = Q3+1.5*(Q3-Q1)\n",
    "LB3 = Q1-1.5*(Q3-Q1)\n",
    "boundOutput('Week3',UB3,LB3)\n",
    "\n",
    "csv_file.seek(0) \n",
    "next(csv_reader)\n",
    "for line in csv_reader:\n",
    "    if float(line[3]) < LB3:\n",
    "        name.append(line[0])\n",
    "        data.append(float(line[3]))\n",
    "\n",
    "tardy('Week3',name, data)  \n",
    "    \n",
    "########################  "
   ]
  },
  {
   "cell_type": "code",
   "execution_count": null,
   "metadata": {},
   "outputs": [],
   "source": []
  }
 ],
 "metadata": {
  "kernelspec": {
   "display_name": "Python 3",
   "language": "python",
   "name": "python3"
  },
  "language_info": {
   "codemirror_mode": {
    "name": "ipython",
    "version": 3
   },
   "file_extension": ".py",
   "mimetype": "text/x-python",
   "name": "python",
   "nbconvert_exporter": "python",
   "pygments_lexer": "ipython3",
   "version": "3.8.5"
  }
 },
 "nbformat": 4,
 "nbformat_minor": 5
}
